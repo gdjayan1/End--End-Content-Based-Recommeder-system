{
 "cells": [
  {
   "cell_type": "markdown",
   "metadata": {},
   "source": [
    "# 1. Webscraping"
   ]
  },
  {
   "cell_type": "code",
   "execution_count": 1,
   "metadata": {},
   "outputs": [],
   "source": [
    "# import the required libraries\n",
    "from selenium import webdriver\n",
    "from selenium.webdriver.support.ui import WebDriverWait\n",
    "from selenium.webdriver.support import expected_conditions as ec\n",
    "import time\n",
    "from bs4 import BeautifulSoup\n",
    "import re\n",
    "import pandas as pd"
   ]
  },
  {
   "cell_type": "code",
   "execution_count": 2,
   "metadata": {},
   "outputs": [],
   "source": [
    "# concatenate the string url string\n",
    "url = 'https://www.amazon.in/s?rh=n%3A1571271031%2Cn%3A%211571272031%2Cn%3A1968024031%2Cn%3A1968120031'\n",
    "add_1 ='&page='\n",
    "add_2 ='&qid=1568790816&ref=lp_1968120031_pg_'\n"
   ]
  },
  {
   "cell_type": "code",
   "execution_count": 3,
   "metadata": {},
   "outputs": [],
   "source": [
    "# assign empty list for the features to extract\n",
    "n =[]\n",
    "asin = []\n",
    "title = []\n",
    "image_url = []\n",
    "whole_price= []\n",
    "# the below code helps to extract the features required for data analysis\n",
    "for n in range(1,400):\n",
    "    next_page = f'{url}{add_1}{n}{add_2}{n}'\n",
    "    driver = webdriver.Chrome(r'C:\\Users\\Dhanajayan\\Documents\\chromedriver.exe')\n",
    "    driver.get(next_page)\n",
    "    html = driver.page_source\n",
    "    soup = BeautifulSoup(html,'html.parser')\n",
    "    \n",
    "\n",
    "    for i in soup.find_all('div'):\n",
    "        asin_no = i.get('data-asin')\n",
    "        if asin_no != None:\n",
    "            asin.append(asin_no)           \n",
    "\n",
    "\n",
    "    for i in soup.find_all('span',{'class':'a-size-base-plus a-color-base a-text-normal'}):\n",
    "        t = i.text\n",
    "        title.append(t)\n",
    "\n",
    "    \n",
    "    for i in soup.find_all('img',{'class':'s-image'}):\n",
    "        url = i.get('src')      \n",
    "        image_url.append(url)\n",
    "            \n",
    "   \n",
    "    for i in soup.find_all('span',{'class':'a-price-whole'}):\n",
    "        price = i.text\n",
    "        whole_price.append(price)      \n",
    "   \n",
    "    time.sleep(5)"
   ]
  },
  {
   "cell_type": "code",
   "execution_count": 39,
   "metadata": {},
   "outputs": [],
   "source": [
    "# convert the list to pandas Dataframe\n",
    "Data=pd.DataFrame(asin,columns=['asin'])\n",
    "Data1=pd.DataFrame(title,columns=['title'])\n",
    "Data2=pd.DataFrame(whole_price,columns=['price'])\n",
    "Data3=pd.DataFrame(image_url,columns=['url'])\n"
   ]
  },
  {
   "cell_type": "code",
   "execution_count": 40,
   "metadata": {},
   "outputs": [],
   "source": [
    "# combine all the features\n",
    "Data['title']=Data1\n",
    "Data['price']=Data2\n",
    "Data['url']=Data3\n"
   ]
  },
  {
   "cell_type": "code",
   "execution_count": 42,
   "metadata": {},
   "outputs": [],
   "source": [
    "# convert the data to csv file format\n",
    "Data.to_csv(r'C:\\Users\\Dhanajayan\\Desktop\\New folder\\recommender system\\Amazon_fashon_data.csv')"
   ]
  },
  {
   "cell_type": "code",
   "execution_count": 43,
   "metadata": {},
   "outputs": [
    {
     "data": {
      "text/html": [
       "<div>\n",
       "<style scoped>\n",
       "    .dataframe tbody tr th:only-of-type {\n",
       "        vertical-align: middle;\n",
       "    }\n",
       "\n",
       "    .dataframe tbody tr th {\n",
       "        vertical-align: top;\n",
       "    }\n",
       "\n",
       "    .dataframe thead th {\n",
       "        text-align: right;\n",
       "    }\n",
       "</style>\n",
       "<table border=\"1\" class=\"dataframe\">\n",
       "  <thead>\n",
       "    <tr style=\"text-align: right;\">\n",
       "      <th></th>\n",
       "      <th>asin</th>\n",
       "      <th>title</th>\n",
       "      <th>price</th>\n",
       "      <th>url</th>\n",
       "    </tr>\n",
       "  </thead>\n",
       "  <tbody>\n",
       "    <tr>\n",
       "      <td>0</td>\n",
       "      <td>B07DQSF64D</td>\n",
       "      <td>Denim Venim Men's Polo Neck T-Shirts in Multi ...</td>\n",
       "      <td>349.</td>\n",
       "      <td>https://m.media-amazon.com/images/I/61tDL0RhpN...</td>\n",
       "    </tr>\n",
       "    <tr>\n",
       "      <td>1</td>\n",
       "      <td>B07HGGDMGF</td>\n",
       "      <td>Chromozome Men's Regular Fit Polo T-Shirt (Pac...</td>\n",
       "      <td>319.</td>\n",
       "      <td>https://m.media-amazon.com/images/I/81GFUygYKn...</td>\n",
       "    </tr>\n",
       "    <tr>\n",
       "      <td>2</td>\n",
       "      <td>B07V9685S4</td>\n",
       "      <td>Alan Jones Clothing Men's Cotton Striped Polo ...</td>\n",
       "      <td>699.</td>\n",
       "      <td>https://m.media-amazon.com/images/I/71jyKrRclf...</td>\n",
       "    </tr>\n",
       "    <tr>\n",
       "      <td>3</td>\n",
       "      <td>B01IPE0MPK</td>\n",
       "      <td>FLEXIMAA Mens Cotton Polo Collar T-Shirt</td>\n",
       "      <td>399.</td>\n",
       "      <td>https://m.media-amazon.com/images/I/612abSmK8i...</td>\n",
       "    </tr>\n",
       "    <tr>\n",
       "      <td>4</td>\n",
       "      <td>B07H7SF3B1</td>\n",
       "      <td>Leotude Men's Cotton Black Olive Reglan Sleeve...</td>\n",
       "      <td>399.</td>\n",
       "      <td>https://m.media-amazon.com/images/I/61V54DZVY8...</td>\n",
       "    </tr>\n",
       "  </tbody>\n",
       "</table>\n",
       "</div>"
      ],
      "text/plain": [
       "         asin                                              title price  \\\n",
       "0  B07DQSF64D  Denim Venim Men's Polo Neck T-Shirts in Multi ...  349.   \n",
       "1  B07HGGDMGF  Chromozome Men's Regular Fit Polo T-Shirt (Pac...  319.   \n",
       "2  B07V9685S4  Alan Jones Clothing Men's Cotton Striped Polo ...  699.   \n",
       "3  B01IPE0MPK           FLEXIMAA Mens Cotton Polo Collar T-Shirt  399.   \n",
       "4  B07H7SF3B1  Leotude Men's Cotton Black Olive Reglan Sleeve...  399.   \n",
       "\n",
       "                                                 url  \n",
       "0  https://m.media-amazon.com/images/I/61tDL0RhpN...  \n",
       "1  https://m.media-amazon.com/images/I/81GFUygYKn...  \n",
       "2  https://m.media-amazon.com/images/I/71jyKrRclf...  \n",
       "3  https://m.media-amazon.com/images/I/612abSmK8i...  \n",
       "4  https://m.media-amazon.com/images/I/61V54DZVY8...  "
      ]
     },
     "execution_count": 43,
     "metadata": {},
     "output_type": "execute_result"
    }
   ],
   "source": [
    "# check the data\n",
    "Data.head()"
   ]
  },
  {
   "cell_type": "code",
   "execution_count": 44,
   "metadata": {},
   "outputs": [
    {
     "data": {
      "text/plain": [
       "(21784, 4)"
      ]
     },
     "execution_count": 44,
     "metadata": {},
     "output_type": "execute_result"
    }
   ],
   "source": [
    "# check the shape of the data\n",
    "Data.shape"
   ]
  },
  {
   "cell_type": "code",
   "execution_count": 45,
   "metadata": {},
   "outputs": [
    {
     "name": "stdout",
     "output_type": "stream",
     "text": [
      "<class 'pandas.core.frame.DataFrame'>\n",
      "RangeIndex: 21784 entries, 0 to 21783\n",
      "Data columns (total 4 columns):\n",
      "asin     21784 non-null object\n",
      "title    21784 non-null object\n",
      "price    21518 non-null object\n",
      "url      21784 non-null object\n",
      "dtypes: object(4)\n",
      "memory usage: 680.9+ KB\n"
     ]
    }
   ],
   "source": [
    "# check the data information\n",
    "Data.info()"
   ]
  }
 ],
 "metadata": {
  "kernelspec": {
   "display_name": "Python 3",
   "language": "python",
   "name": "python3"
  },
  "language_info": {
   "codemirror_mode": {
    "name": "ipython",
    "version": 3
   },
   "file_extension": ".py",
   "mimetype": "text/x-python",
   "name": "python",
   "nbconvert_exporter": "python",
   "pygments_lexer": "ipython3",
   "version": "3.7.4"
  }
 },
 "nbformat": 4,
 "nbformat_minor": 2
}
